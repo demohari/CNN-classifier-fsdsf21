{
 "cells": [
  {
   "cell_type": "code",
   "execution_count": 2,
   "id": "2bc1b858",
   "metadata": {},
   "outputs": [],
   "source": [
    "import os; os.environ['TF_CPP_MIN_LOG_LEVEL'] = '1'"
   ]
  },
  {
   "cell_type": "code",
   "execution_count": 3,
   "id": "46fbcb7f",
   "metadata": {},
   "outputs": [],
   "source": [
    "import tensorflow as tf\n",
    "import os\n",
    "from tqdm import tqdm\n",
    "import urllib.request as req"
   ]
  },
  {
   "cell_type": "code",
   "execution_count": 11,
   "id": "c546f0c2",
   "metadata": {},
   "outputs": [],
   "source": [
    "SOURCE_URL = \"https://download.microsoft.com/download/3/E/1/3E1C3F21-ECDB-4869-8368-6DEBA77B919F/kagglecatsanddogs_5340.zip\""
   ]
  },
  {
   "cell_type": "code",
   "execution_count": 12,
   "id": "47a2b841",
   "metadata": {},
   "outputs": [],
   "source": [
    "DESTINATION = \"data\"\n",
    "os.makedirs(DESTINATION, exist_ok=True)\n",
    "data_file=\"data.zip\"\n",
    "DESTINATION_ZIP_PATH = os.path.join(DESTINATION,data_file)"
   ]
  },
  {
   "cell_type": "code",
   "execution_count": 13,
   "id": "7b400e29",
   "metadata": {},
   "outputs": [
    {
     "data": {
      "text/plain": [
       "'data/data.zip'"
      ]
     },
     "execution_count": 13,
     "metadata": {},
     "output_type": "execute_result"
    }
   ],
   "source": [
    "DESTINATION_ZIP_PATH"
   ]
  },
  {
   "cell_type": "code",
   "execution_count": 14,
   "id": "a483a16c",
   "metadata": {},
   "outputs": [
    {
     "data": {
      "text/plain": [
       "'/home/hari/deep_learning/CNN-classifier-fsdsf21/research_env'"
      ]
     },
     "execution_count": 14,
     "metadata": {},
     "output_type": "execute_result"
    }
   ],
   "source": [
    "pwd"
   ]
  },
  {
   "cell_type": "code",
   "execution_count": 16,
   "id": "5879ec78",
   "metadata": {},
   "outputs": [
    {
     "name": "stderr",
     "output_type": "stream",
     "text": [
      "100%|██████████████████████████████████████████████████████████████████████████| 2/2 [00:00<00:00, 23967.45it/s]\n"
     ]
    }
   ],
   "source": [
    "filename,headers = tqdm(req.urlretrieve(SOURCE_URL,DESTINATION_ZIP_PATH))"
   ]
  },
  {
   "cell_type": "code",
   "execution_count": 17,
   "id": "57ebd493",
   "metadata": {},
   "outputs": [
    {
     "data": {
      "text/plain": [
       "'data/data.zip'"
      ]
     },
     "execution_count": 17,
     "metadata": {},
     "output_type": "execute_result"
    }
   ],
   "source": [
    "filename"
   ]
  },
  {
   "cell_type": "code",
   "execution_count": 20,
   "id": "cf189a27",
   "metadata": {},
   "outputs": [
    {
     "name": "stdout",
     "output_type": "stream",
     "text": [
      "Content-Type: application/octet-stream\n",
      "Accept-Ranges: bytes\n",
      "Server: Windows-Azure-Blob/1.0 Microsoft-HTTPAPI/2.0\n",
      "x-ms-blob-content-md5: 4TekUHNw2UJGm20meiTqBA==\n",
      "Last-Modified: Mon, 09 May 2022 20:42:07 GMT\n",
      "ETag: \"0x8DA31FC621E01C4\"\n",
      "Content-Length: 824887076\n",
      "Date: Sat, 25 Feb 2023 08:04:23 GMT\n",
      "Connection: close\n",
      "\n",
      "\n"
     ]
    }
   ],
   "source": [
    "print(headers)"
   ]
  },
  {
   "cell_type": "code",
   "execution_count": null,
   "id": "4f44ffd8",
   "metadata": {},
   "outputs": [],
   "source": []
  }
 ],
 "metadata": {
  "kernelspec": {
   "display_name": "Python 3 (ipykernel)",
   "language": "python",
   "name": "python3"
  },
  "language_info": {
   "codemirror_mode": {
    "name": "ipython",
    "version": 3
   },
   "file_extension": ".py",
   "mimetype": "text/x-python",
   "name": "python",
   "nbconvert_exporter": "python",
   "pygments_lexer": "ipython3",
   "version": "3.8.16"
  }
 },
 "nbformat": 4,
 "nbformat_minor": 5
}
