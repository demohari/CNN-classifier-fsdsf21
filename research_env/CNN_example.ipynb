{
 "cells": [
  {
   "cell_type": "code",
   "execution_count": 1,
   "id": "b80ab99b",
   "metadata": {},
   "outputs": [],
   "source": [
    "import os; os.environ['TF_CPP_MIN_LOG_LEVEL'] = '1'"
   ]
  },
  {
   "cell_type": "code",
   "execution_count": 2,
   "id": "46fbcb7f",
   "metadata": {},
   "outputs": [],
   "source": [
    "import os\n",
    "import tensorflow as tf\n",
    "import numpy as np\n",
    "import urllib.request as req\n",
    "import shutil\n",
    "from tqdm import tqdm\n",
    "from PIL import Image"
   ]
  },
  {
   "cell_type": "code",
   "execution_count": 3,
   "id": "448b12c1",
   "metadata": {},
   "outputs": [],
   "source": [
    "SOURCE_URL = \"https://download.microsoft.com/download/3/E/1/3E1C3F21-ECDB-4869-8368-6DEBA77B919F/kagglecatsanddogs_5340.zip\""
   ]
  },
  {
   "cell_type": "code",
   "execution_count": 4,
   "id": "f42df82b",
   "metadata": {},
   "outputs": [],
   "source": [
    "DESTINATION = \"data\"\n",
    "os.makedirs(DESTINATION, exist_ok=True)\n",
    "data_file=\"data.zip\"\n",
    "DESTINATION_ZIP_PATH = os.path.join(DESTINATION,data_file)"
   ]
  },
  {
   "cell_type": "code",
   "execution_count": 5,
   "id": "85fc99ed",
   "metadata": {},
   "outputs": [],
   "source": [
    "DESTINATION_ZIP_PATH"
   ]
  },
  {
   "cell_type": "code",
   "execution_count": 6,
   "id": "3fbc5ad5",
   "metadata": {},
   "outputs": [],
   "source": [
    "pwd"
   ]
  },
  {
   "cell_type": "code",
   "execution_count": 7,
   "id": "5dce63a1",
   "metadata": {},
   "outputs": [],
   "source": [
    "filename,headers = tqdm(req.urlretrieve(SOURCE_URL,DESTINATION_ZIP_PATH))"
   ]
  },
  {
   "cell_type": "code",
   "execution_count": 8,
   "id": "329d0514",
   "metadata": {},
   "outputs": [],
   "source": [
    "filename"
   ]
  },
  {
   "cell_type": "code",
   "execution_count": 9,
   "id": "fabfe2cc",
   "metadata": {},
   "outputs": [],
   "source": [
    "print(headers)"
   ]
  },
  {
   "cell_type": "code",
   "execution_count": 10,
   "id": "ad34c42c",
   "metadata": {},
   "outputs": [],
   "source": [
    "from zipfile import ZipFile\n",
    "with ZipFile(filename,'r') as zip_file:\n",
    "    zip_file.extractall(\"data/\")"
   ]
  },
  {
   "cell_type": "code",
   "execution_count": 11,
   "id": "1913683c",
   "metadata": {},
   "outputs": [],
   "source": [
    "TARGET_DATA_DIR = [\"Cat\",\"Dog\"]\n",
    "#PARENT_DIR =\"data/PetImages\" for linux\n",
    "PARENT_DIR =os.path.join(\"data\",\"PetImages\") # for all os"
   ]
  },
  {
   "cell_type": "code",
   "execution_count": 12,
   "id": "fb1b5d5b",
   "metadata": {},
   "outputs": [],
   "source": [
    "for dirs in os.listdir(PARENT_DIR):\n",
    "    print(dirs)"
   ]
  },
  {
   "cell_type": "code",
   "execution_count": 13,
   "id": "cc348533",
   "metadata": {},
   "outputs": [],
   "source": [
    "for dirs in os.listdir(PARENT_DIR):\n",
    "    print(os.path.join(PARENT_DIR,dirs))"
   ]
  },
  {
   "cell_type": "code",
   "execution_count": 14,
   "id": "1fecbbb9",
   "metadata": {},
   "outputs": [],
   "source": [
    "for dirs in os.listdir(PARENT_DIR):\n",
    "    full_path_data_dir = os.path.join(PARENT_DIR,dirs)\n",
    "    for imgs in os.listdir(full_path_data_dir):\n",
    "        print(dirs,imgs)\n",
    "        "
   ]
  },
  {
   "cell_type": "code",
   "execution_count": 15,
   "id": "13a54959",
   "metadata": {},
   "outputs": [],
   "source": [
    "for dirs in os.listdir(PARENT_DIR):\n",
    "    full_path_data_dir = os.path.join(PARENT_DIR,dirs)\n",
    "    for imgs in os.listdir(full_path_data_dir):\n",
    "        print(os.path.join(full_path_data_dir,imgs))"
   ]
  },
  {
   "cell_type": "code",
   "execution_count": 16,
   "id": "6b4a21e6",
   "metadata": {},
   "outputs": [],
   "source": [
    "for dirs in os.listdir(PARENT_DIR):\n",
    "    full_path_data_dir = os.path.join(PARENT_DIR,dirs)\n",
    "    for imgs in os.listdir(full_path_data_dir):\n",
    "        path_to_img = os.path.join(full_path_data_dir,imgs)\n",
    "        try:\n",
    "            img=Image.open(path_to_img)\n",
    "            img.verify()\n",
    "            #print(f\"{path_to_img } is verified\")\n",
    "        \n",
    "        except Exception as e:\n",
    "            print(f\"{path_to_img } is bad\")\n",
    "            \n",
    "            "
   ]
  },
  {
   "cell_type": "code",
   "execution_count": 17,
   "id": "7f9b9ba2",
   "metadata": {},
   "outputs": [],
   "source": [
    "BAD_DATA_DIR = \"bad_data\"\n",
    "os.makedirs(BAD_DATA_DIR,exist_ok=True)"
   ]
  },
  {
   "cell_type": "code",
   "execution_count": 18,
   "id": "6fe1c981",
   "metadata": {},
   "outputs": [],
   "source": [
    "for dirs in os.listdir(PARENT_DIR):\n",
    "    full_path_data_dir = os.path.join(PARENT_DIR,dirs)\n",
    "    for imgs in os.listdir(full_path_data_dir):\n",
    "        path_to_img = os.path.join(full_path_data_dir,imgs)\n",
    "        try:\n",
    "            img=Image.open(path_to_img)\n",
    "            img.verify()\n",
    "            #print(f\"{path_to_img } is verified\")\n",
    "        \n",
    "        except Exception as e:\n",
    "            print(f\"{path_to_img } is bad\")\n",
    "            bad_data_path=os.path.join(BAD_DATA_DIR,imgs)\n",
    "            shutil.move(path_to_img,bad_data_path)\n",
    "            \n",
    "            "
   ]
  },
  {
   "cell_type": "code",
   "execution_count": 19,
   "id": "2ee4fe78",
   "metadata": {},
   "outputs": [],
   "source": [
    "IMG_SIZE = (180, 180)\n",
    "BATCH_SIZE = 32"
   ]
  },
  {
   "cell_type": "code",
   "execution_count": 20,
   "id": "2ce709f3",
   "metadata": {},
   "outputs": [],
   "source": [
    "train_ds = tf.keras.preprocessing.image_dataset_from_directory(\n",
    "    PARENT_DIR,\n",
    "    validation_split=0.2,\n",
    "    subset=\"training\",\n",
    "    seed=42,\n",
    "    image_size=IMG_SIZE,\n",
    "    batch_size=BATCH_SIZE\n",
    ")\n",
    "\n",
    "val_ds = tf.keras.preprocessing.image_dataset_from_directory(\n",
    "    PARENT_DIR,\n",
    "    validation_split=0.2,\n",
    "    subset=\"validation\",\n",
    "    seed=42,\n",
    "    image_size=IMG_SIZE,\n",
    "    batch_size=BATCH_SIZE\n",
    ")"
   ]
  },
  {
   "cell_type": "code",
   "execution_count": 21,
   "id": "282690cf",
   "metadata": {},
   "outputs": [],
   "source": [
    "### Create a log dir for tensorboard logs\n",
    "\n",
    "import time\n",
    "\n",
    "def get_log_path(base_log_dir=os.path.join(\"logs\",\"fit\")):\n",
    "    uniqueName = time.asctime().replace(\" \", \"_\").replace(\":\", \"\")\n",
    "    log_path = os.path.join(base_log_dir, uniqueName)\n",
    "    print(f\"saving logs at: {log_path}\")\n",
    "    return log_path\n",
    "\n",
    "log_dir = get_log_path()"
   ]
  },
  {
   "cell_type": "code",
   "execution_count": 22,
   "id": "6fc31c00",
   "metadata": {},
   "outputs": [],
   "source": [
    "file_writer = tf.summary.create_file_writer(logdir=log_dir)"
   ]
  },
  {
   "cell_type": "code",
   "execution_count": 23,
   "id": "1a5352ec",
   "metadata": {},
   "outputs": [],
   "source": [
    "for images, labels in train_ds.take(1):\n",
    "    print(images.shape, labels)"
   ]
  },
  {
   "cell_type": "code",
   "execution_count": 24,
   "id": "e894625b",
   "metadata": {},
   "outputs": [],
   "source": [
    "images.shape"
   ]
  },
  {
   "cell_type": "code",
   "execution_count": 25,
   "id": "bb8f91b8",
   "metadata": {},
   "outputs": [],
   "source": [
    "with file_writer.as_default():\n",
    "    images = np.reshape(images[10:30],(-1, 180, 180, 3)) ### (20, 28, 28, 1)\n",
    "\n",
    "    tf.summary.image(\"samples\",images, max_outputs=25, step=0)"
   ]
  },
  {
   "cell_type": "code",
   "execution_count": 26,
   "id": "76e1b0c2",
   "metadata": {},
   "outputs": [],
   "source": [
    "%load_ext tensorboard"
   ]
  },
  {
   "cell_type": "code",
   "execution_count": 27,
   "id": "e7153791",
   "metadata": {},
   "outputs": [],
   "source": [
    "%tensorboard --logdir research/logs/fit"
   ]
  },
  {
   "cell_type": "code",
   "execution_count": null,
   "id": "33c833e8",
   "metadata": {},
   "outputs": [],
   "source": []
  }
 ],
 "metadata": {
  "kernelspec": {
   "display_name": "Python 3 (ipykernel)",
   "language": "python",
   "name": "python3"
  },
  "language_info": {
   "codemirror_mode": {
    "name": "ipython",
    "version": 3
   },
   "file_extension": ".py",
   "mimetype": "text/x-python",
   "name": "python",
   "nbconvert_exporter": "python",
   "pygments_lexer": "ipython3",
   "version": "3.8.16"
  }
 },
 "nbformat": 4,
 "nbformat_minor": 5
}
